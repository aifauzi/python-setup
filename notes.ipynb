{
 "cells": [
  {
   "cell_type": "markdown",
   "metadata": {},
   "source": [
    "FUNGSI TAMBAH"
   ]
  },
  {
   "cell_type": "code",
   "execution_count": null,
   "metadata": {},
   "outputs": [],
   "source": [
    "# fungsi tambah\n",
    "# ..."
   ]
  },
  {
   "cell_type": "markdown",
   "metadata": {},
   "source": [
    "FUNGSI KURANG"
   ]
  },
  {
   "cell_type": "code",
   "execution_count": null,
   "metadata": {},
   "outputs": [],
   "source": [
    "# fungsi kurang\n",
    "# ..."
   ]
  },
  {
   "cell_type": "markdown",
   "metadata": {},
   "source": [
    "git init -> untuk menerapkan git pada project\n",
    "git add . -> untuk menandakan perubahan yang dilakukan\n",
    "git commit -m \"pesan/komen\" -> untuk menyimpan perubahan yang dilakukan dan diberikan pesan commit\n",
    "git push -> untuk mengupload perubahan yang dilakukan orang lain/kita sendiri\n",
    "\n",
    "file .gitignore -> untuk membuat sebuah file agar tidak terpengaruh git\n"
   ]
  }
 ],
 "metadata": {
  "language_info": {
   "name": "python"
  }
 },
 "nbformat": 4,
 "nbformat_minor": 2
}
